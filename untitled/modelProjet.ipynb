{
 "cells": [
  {
   "cell_type": "code",
   "metadata": {
    "ExecuteTime": {
     "end_time": "2024-08-11T12:27:38.113340Z",
     "start_time": "2024-08-11T12:27:38.108207Z"
    }
   },
   "source": [
    "import numpy as np\n",
    "import pandas as pd\n",
    "import matplotlib.pyplot as plt\n",
    "import seaborn as sns"
   ],
   "outputs": [],
   "execution_count": 1
  },
  {
   "cell_type": "code",
   "metadata": {
    "ExecuteTime": {
     "end_time": "2024-08-11T12:27:38.188736Z",
     "start_time": "2024-08-11T12:27:38.114365Z"
    }
   },
   "source": "data=pd.read_csv(\"training_data.csv\")",
   "outputs": [],
   "execution_count": 2
  },
  {
   "cell_type": "code",
   "metadata": {
    "ExecuteTime": {
     "end_time": "2024-08-11T12:27:38.199361Z",
     "start_time": "2024-08-11T12:27:38.188736Z"
    }
   },
   "source": [
    "data.drop(\"Unnamed: 133\",axis=1,inplace=True)"
   ],
   "outputs": [],
   "execution_count": 3
  },
  {
   "cell_type": "code",
   "metadata": {
    "ExecuteTime": {
     "end_time": "2024-08-11T12:27:38.219081Z",
     "start_time": "2024-08-11T12:27:38.199361Z"
    }
   },
   "source": [
    "new_row = {col: 0 for col in data.columns if col != 'prognosis'}\n",
    "new_row['prognosis'] = 'sain'\n",
    "# Conversion de la nouvelle ligne en DataFrame\n",
    "new_row_df = pd.DataFrame([new_row])\n",
    "\n",
    "# Ajout de la nouvelle ligne au DataFrame existant\n",
    "data = pd.concat([data, new_row_df], ignore_index=True)"
   ],
   "outputs": [],
   "execution_count": 4
  },
  {
   "cell_type": "code",
   "metadata": {
    "ExecuteTime": {
     "end_time": "2024-08-11T12:27:38.245532Z",
     "start_time": "2024-08-11T12:27:38.219081Z"
    }
   },
   "source": "data_test=pd.read_csv(\"test_data.csv\")",
   "outputs": [],
   "execution_count": 5
  },
  {
   "cell_type": "code",
   "metadata": {
    "ExecuteTime": {
     "end_time": "2024-08-11T12:27:38.252798Z",
     "start_time": "2024-08-11T12:27:38.245532Z"
    }
   },
   "source": "",
   "outputs": [],
   "execution_count": 5
  },
  {
   "cell_type": "code",
   "metadata": {
    "ExecuteTime": {
     "end_time": "2024-08-11T12:27:38.262628Z",
     "start_time": "2024-08-11T12:27:38.254365Z"
    }
   },
   "source": "",
   "outputs": [],
   "execution_count": 5
  },
  {
   "cell_type": "code",
   "metadata": {
    "ExecuteTime": {
     "end_time": "2024-08-11T12:27:40.089013Z",
     "start_time": "2024-08-11T12:27:38.264700Z"
    }
   },
   "source": [
    "from sklearn.ensemble import RandomForestClassifier\n",
    "from sklearn.metrics import accuracy_score,classification_report\n",
    "from sklearn.preprocessing import LabelEncoder\n",
    "\n",
    "\n",
    "# Encoder la variable cible avant la séparation\n",
    "label_encoder = LabelEncoder()\n",
    "\n",
    "# Fusionner les ensembles de train et de test pour l'encodage\n",
    "full_data = pd.concat([data, data_test], ignore_index=True)\n",
    "label_encoder.fit(full_data['prognosis'])\n",
    "\n",
    "X_train=data.drop(\"prognosis\",axis=1)\n",
    "y_train=data[\"prognosis\"]\n",
    "X_test=data_test.drop(\"prognosis\",axis=1)\n",
    "y_test=data_test[\"prognosis\"]\n",
    "\n",
    "# Encoder les variables cibles\n",
    "y_train = label_encoder.transform(y_train)\n",
    "y_test = label_encoder.transform(y_test)\n",
    "\n",
    "#creation du model\n",
    "model=RandomForestClassifier(n_estimators=200,criterion='entropy',random_state=42)\n",
    "\n",
    "# Entraînement du modèle\n",
    "model.fit(X_train, y_train)\n",
    "\n",
    "# Prédiction sur l'ensemble de test\n",
    "y_pred = model.predict(X_test)\n",
    "\n",
    "# Évaluation du modèle\n",
    "accuracy = accuracy_score(y_test, y_pred)\n",
    "\n",
    "# Obtenir les classes présentes dans l'ensemble de test\n",
    "test_classes = label_encoder.inverse_transform(sorted(set(y_test)))\n",
    "\n",
    "# Générer le rapport de classification uniquement pour les classes présentes dans les données de test\n",
    "report = classification_report(y_test, y_pred, target_names=test_classes)\n",
    "\n",
    "print(f'Accuracy: {accuracy}')\n",
    "print('Classification Report:')\n",
    "print(report)\n"
   ],
   "outputs": [
    {
     "name": "stdout",
     "output_type": "stream",
     "text": [
      "Accuracy: 1.0\n",
      "Classification Report:\n",
      "                                         precision    recall  f1-score   support\n",
      "\n",
      "(vertigo) Paroymsal  Positional Vertigo       1.00      1.00      1.00         1\n",
      "                                   AIDS       1.00      1.00      1.00         1\n",
      "                                   Acne       1.00      1.00      1.00         1\n",
      "                    Alcoholic hepatitis       1.00      1.00      1.00         1\n",
      "                                Allergy       1.00      1.00      1.00         1\n",
      "                              Arthritis       1.00      1.00      1.00         1\n",
      "                       Bronchial Asthma       1.00      1.00      1.00         1\n",
      "                   Cervical spondylosis       1.00      1.00      1.00         1\n",
      "                            Chicken pox       1.00      1.00      1.00         1\n",
      "                    Chronic cholestasis       1.00      1.00      1.00         1\n",
      "                            Common Cold       1.00      1.00      1.00         1\n",
      "                                 Dengue       1.00      1.00      1.00         1\n",
      "                              Diabetes        1.00      1.00      1.00         1\n",
      "           Dimorphic hemmorhoids(piles)       1.00      1.00      1.00         1\n",
      "                          Drug Reaction       1.00      1.00      1.00         1\n",
      "                       Fungal infection       1.00      1.00      1.00         2\n",
      "                                   GERD       1.00      1.00      1.00         1\n",
      "                        Gastroenteritis       1.00      1.00      1.00         1\n",
      "                           Heart attack       1.00      1.00      1.00         1\n",
      "                            Hepatitis B       1.00      1.00      1.00         1\n",
      "                            Hepatitis C       1.00      1.00      1.00         1\n",
      "                            Hepatitis D       1.00      1.00      1.00         1\n",
      "                            Hepatitis E       1.00      1.00      1.00         1\n",
      "                          Hypertension        1.00      1.00      1.00         1\n",
      "                        Hyperthyroidism       1.00      1.00      1.00         1\n",
      "                           Hypoglycemia       1.00      1.00      1.00         1\n",
      "                         Hypothyroidism       1.00      1.00      1.00         1\n",
      "                               Impetigo       1.00      1.00      1.00         1\n",
      "                               Jaundice       1.00      1.00      1.00         1\n",
      "                                Malaria       1.00      1.00      1.00         1\n",
      "                               Migraine       1.00      1.00      1.00         1\n",
      "                        Osteoarthristis       1.00      1.00      1.00         1\n",
      "           Paralysis (brain hemorrhage)       1.00      1.00      1.00         1\n",
      "                    Peptic ulcer diseae       1.00      1.00      1.00         1\n",
      "                              Pneumonia       1.00      1.00      1.00         1\n",
      "                              Psoriasis       1.00      1.00      1.00         1\n",
      "                           Tuberculosis       1.00      1.00      1.00         1\n",
      "                                Typhoid       1.00      1.00      1.00         1\n",
      "                Urinary tract infection       1.00      1.00      1.00         1\n",
      "                         Varicose veins       1.00      1.00      1.00         1\n",
      "                            hepatitis A       1.00      1.00      1.00         1\n",
      "\n",
      "                               accuracy                           1.00        42\n",
      "                              macro avg       1.00      1.00      1.00        42\n",
      "                           weighted avg       1.00      1.00      1.00        42\n",
      "\n"
     ]
    }
   ],
   "execution_count": 6
  },
  {
   "cell_type": "code",
   "metadata": {
    "ExecuteTime": {
     "end_time": "2024-08-11T12:27:40.134392Z",
     "start_time": "2024-08-11T12:27:40.092093Z"
    }
   },
   "source": [
    "# Exemple de symptômes donnés pour prédiction\n",
    "new_symptoms = {\n",
    "    'itching': 0,\n",
    "    'skin_rash': 0,\n",
    "    'nodal_skin_eruptions': 0,\n",
    "    'continuous_sneezing': 0,\n",
    "    'shivering': 0,\n",
    "    'chills': 0,\n",
    "}\n",
    "\n",
    "# Créer un dictionnaire avec toutes les colonnes du dataset\n",
    "all_columns =data.columns\n",
    "\n",
    "# Initialiser un dictionnaire avec toutes les colonnes mises à 0\n",
    "new_data_dict = {col: 0 for col in all_columns}\n",
    "# Mettre à jour les valeurs avec les symptômes donnés\n",
    "for symptom, value in new_symptoms.items():\n",
    "    if symptom in new_data_dict:\n",
    "        new_data_dict[symptom] = value\n",
    "\n",
    "# Convertir en DataFrame avec une seule ligne\n",
    "new_data = pd.DataFrame([new_data_dict])\n",
    "\n",
    "# Supprimer la colonne 'prognosis' si elle existe\n",
    "if 'prognosis' in new_data.columns:\n",
    "    new_data = new_data.drop('prognosis', axis=1)\n",
    "\n",
    "# Prédiction sur les nouveaux symptômes\n",
    "new_prediction = model.predict(new_data)\n",
    "\n",
    "# Décoder la prédiction\n",
    "new_prediction_decoded = label_encoder.inverse_transform(new_prediction)\n",
    "\n",
    "# Affichage des résultats\n",
    "print(f'Prédiction du pronostic pour les symptômes donnés : {new_prediction_decoded[0]}')"
   ],
   "outputs": [
    {
     "name": "stdout",
     "output_type": "stream",
     "text": [
      "Prédiction du pronostic pour les symptômes donnés : sain\n"
     ]
    }
   ],
   "execution_count": 7
  },
  {
   "metadata": {
    "ExecuteTime": {
     "end_time": "2024-08-11T12:27:40.217277Z",
     "start_time": "2024-08-11T12:27:40.134392Z"
    }
   },
   "cell_type": "code",
   "source": [
    "import joblib\n",
    "\n",
    "# Save the trained model\n",
    "joblib.dump(model, 'random_forest_model.pkl')\n"
   ],
   "outputs": [
    {
     "data": {
      "text/plain": [
       "['random_forest_model.pkl']"
      ]
     },
     "execution_count": 8,
     "metadata": {},
     "output_type": "execute_result"
    }
   ],
   "execution_count": 8
  },
  {
   "metadata": {
    "ExecuteTime": {
     "end_time": "2024-08-11T12:27:40.224482Z",
     "start_time": "2024-08-11T12:27:40.217277Z"
    }
   },
   "cell_type": "code",
   "source": "",
   "outputs": [],
   "execution_count": 8
  }
 ],
 "metadata": {
  "kernelspec": {
   "display_name": "Python 3",
   "language": "python",
   "name": "python3"
  },
  "language_info": {
   "codemirror_mode": {
    "name": "ipython",
    "version": 3
   },
   "file_extension": ".py",
   "mimetype": "text/x-python",
   "name": "python",
   "nbconvert_exporter": "python",
   "pygments_lexer": "ipython3",
   "version": "3.12.4"
  }
 },
 "nbformat": 4,
 "nbformat_minor": 2
}
